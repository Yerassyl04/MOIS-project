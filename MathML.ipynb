{
 "cells": [
  {
   "cell_type": "markdown",
   "id": "1ab8aa25",
   "metadata": {},
   "source": [
    "# 7/10 Lab MATH in ML"
   ]
  },
  {
   "cell_type": "markdown",
   "id": "2af1368c",
   "metadata": {},
   "source": [
    "Linear equations"
   ]
  },
  {
   "cell_type": "code",
   "execution_count": 3,
   "id": "6ba0a979",
   "metadata": {},
   "outputs": [
    {
     "name": "stdout",
     "output_type": "stream",
     "text": [
      "x = 1.3, y = 0.8\n"
     ]
    }
   ],
   "source": [
    "import numpy as np\n",
    "A = np.array([[2, 3], \n",
    "              [4, 1]])\n",
    "\n",
    "# Constant matrix\n",
    "B = np.array([5, 6])\n",
    "\n",
    "X = np.linalg.solve(A, B)\n",
    "x, y = X\n",
    "\n",
    "print(f\"x = {x}, y = {y}\")\n"
   ]
  },
  {
   "cell_type": "markdown",
   "id": "694cb2cb",
   "metadata": {},
   "source": [
    "Matrices"
   ]
  },
  {
   "cell_type": "code",
   "execution_count": 5,
   "id": "0c88d398",
   "metadata": {},
   "outputs": [
    {
     "name": "stdout",
     "output_type": "stream",
     "text": [
      "[[ 6  8]\n",
      " [10 12]]\n"
     ]
    }
   ],
   "source": [
    "C = np.array([[1, 2], [3, 4]])\n",
    "D = np.array([[5, 6], [7, 8]])\n",
    "\n",
    "\n",
    "result = C + D\n",
    "print(result)\n"
   ]
  },
  {
   "cell_type": "code",
   "execution_count": 7,
   "id": "9c2d7ba6",
   "metadata": {},
   "outputs": [
    {
     "name": "stdout",
     "output_type": "stream",
     "text": [
      "[[4 4]\n",
      " [4 4]]\n"
     ]
    }
   ],
   "source": [
    "C = np.array([[1, 2], [3, 4]])\n",
    "D = np.array([[5, 6], [7, 8]])\n",
    "\n",
    "\n",
    "result2 = D - C\n",
    "print(result2)"
   ]
  },
  {
   "cell_type": "code",
   "execution_count": 8,
   "id": "7d7dea73",
   "metadata": {},
   "outputs": [
    {
     "name": "stdout",
     "output_type": "stream",
     "text": [
      "[[ 5 12]\n",
      " [21 32]]\n"
     ]
    }
   ],
   "source": [
    "C = np.array([[1, 2], [3, 4]])\n",
    "D = np.array([[5, 6], [7, 8]])\n",
    "\n",
    "\n",
    "result3 = D * C\n",
    "print(result3)"
   ]
  },
  {
   "cell_type": "code",
   "execution_count": 9,
   "id": "25412754",
   "metadata": {},
   "outputs": [
    {
     "name": "stdout",
     "output_type": "stream",
     "text": [
      "[[5.         3.        ]\n",
      " [2.33333333 2.        ]]\n"
     ]
    }
   ],
   "source": [
    "C = np.array([[1, 2], [3, 4]])\n",
    "D = np.array([[5, 6], [7, 8]])\n",
    "\n",
    "\n",
    "result4 = D / C\n",
    "print(result4)"
   ]
  },
  {
   "cell_type": "code",
   "execution_count": 11,
   "id": "32ca5e30",
   "metadata": {},
   "outputs": [
    {
     "name": "stdout",
     "output_type": "stream",
     "text": [
      "[[5 7]\n",
      " [6 8]]\n",
      "[[-4.   3. ]\n",
      " [ 3.5 -2.5]]\n"
     ]
    }
   ],
   "source": [
    "transpose = B.T\n",
    "print(transpose)\n",
    "inverse = np.linalg.inv(B)\n",
    "print(inverse)"
   ]
  },
  {
   "cell_type": "markdown",
   "id": "88967fdf",
   "metadata": {},
   "source": [
    "Derivative and Integral"
   ]
  },
  {
   "cell_type": "code",
   "execution_count": 13,
   "id": "5dc210e9",
   "metadata": {},
   "outputs": [
    {
     "name": "stdout",
     "output_type": "stream",
     "text": [
      "3*x**2\n",
      "x**4/4\n"
     ]
    }
   ],
   "source": [
    "import sympy as sp\n",
    "\n",
    "x = sp.symbols('x')\n",
    "f = x**3\n",
    "\n",
    "f_derivative = sp.diff(f, x)\n",
    "f_integral = sp.integrate(f, x)\n",
    "\n",
    "\n",
    "print(f_derivative)\n",
    "print(f_integral)\n"
   ]
  },
  {
   "cell_type": "code",
   "execution_count": 19,
   "id": "77b942a3",
   "metadata": {},
   "outputs": [],
   "source": [
    "# if you have data of productivity based on rainfall"
   ]
  },
  {
   "cell_type": "code",
   "execution_count": 27,
   "id": "955bf6c4",
   "metadata": {},
   "outputs": [
    {
     "name": "stdout",
     "output_type": "stream",
     "text": [
      "3.3547794117647056\n"
     ]
    }
   ],
   "source": [
    "import numpy as np\n",
    "import matplotlib.pyplot as plt\n",
    "from sklearn.linear_model import LinearRegression\n",
    "\n",
    "X = np.array([100, 150, 190, 200, 300, 400, 500, 600]).reshape(-1, 1)\n",
    "y = np.array([1.2, 1.4, 1.9, 2.5, 3.1, 4.0, 4.8, 5.0])\n",
    "\n",
    "model = LinearRegression()\n",
    "model.fit(X, y)\n",
    "\n",
    "w1 = model.coef_[0] \n",
    "w0 = model.intercept_  \n",
    "\n",
    "predicted = model.predict([[350]])\n",
    "print(predicted[0])"
   ]
  },
  {
   "cell_type": "code",
   "execution_count": 23,
   "id": "d89a690b",
   "metadata": {},
   "outputs": [
    {
     "data": {
      "image/png": "[encoded data removed]",
      "text/plain": [
       "<Figure size 640x480 with 1 Axes>"
      ]
     },
     "metadata": {},
     "output_type": "display_data"
    }
   ],
   "source": [
    "plt.scatter(X, y, color='blue', label='data')\n",
    "plt.plot(X, model.predict(X), color='red', label='regs')\n",
    "plt.xlabel('Rainfall')\n",
    "plt.ylabel('Productivity')\n",
    "plt.legend()\n",
    "plt.show()"
   ]
  },
  {
   "cell_type": "code",
   "execution_count": null,
   "id": "9c8833d3",
   "metadata": {},
   "outputs": [],
   "source": []
  },
  {
   "attachments": {
    "image.png": {
     "image/png": "[encoded data removed]"
    }
   },
   "cell_type": "markdown",
   "id": "92a8ae0d",
   "metadata": {},
   "source": [
    "![image.png](attachment:image.png)"
   ]
  },
  {
   "cell_type": "code",
   "execution_count": 1,
   "id": "12ca961f",
   "metadata": {},
   "outputs": [
    {
     "name": "stdout",
     "output_type": "stream",
     "text": [
      "[ 2.20833333 -2.58333333 -0.18333333]\n"
     ]
    }
   ],
   "source": [
    "import numpy as np\n",
    "\n",
    "A = np.array([[4, 3, -5], \n",
    "              [-2, -4, 5], \n",
    "              [8, 8, 0]])\n",
    "y = np.array([2, 5, -3])\n",
    "\n",
    "x = np.linalg.solve(A, y)\n",
    "print(x)"
   ]
  },
  {
   "cell_type": "code",
   "execution_count": 2,
   "id": "77753aec",
   "metadata": {},
   "outputs": [
    {
     "name": "stdout",
     "output_type": "stream",
     "text": [
      "[[7 7 7]\n",
      " [7 7 7]]\n"
     ]
    }
   ],
   "source": [
    "import numpy as np\n",
    "\n",
    "A = np.array([[1,2,3],\n",
    "              [4,5,6]])\n",
    "B = np.array([[6,5,4],\n",
    "              [3,2,1]])\n",
    "print(A + B)"
   ]
  },
  {
   "cell_type": "code",
   "execution_count": 26,
   "id": "71e46470",
   "metadata": {},
   "outputs": [
    {
     "name": "stdout",
     "output_type": "stream",
     "text": [
      "First Vector          : [5 6 9]\n",
      "Second Vector         : [1 2 3]\n",
      "Vector Addition       : [ 6  8 12]\n",
      "Vector Subtraction   : [4 4 6]\n",
      "Vector Multiplication : [ 5 12 27]\n",
      "Vector Division       : [5. 3. 3.]\n"
     ]
    }
   ],
   "source": [
    "import numpy as np \n",
    "  \n",
    "list1 = [5, 6, 9] \n",
    "list2 = [1, 2, 3] \n",
    "  \n",
    "vector1 = np.array(list1) \n",
    "print(\"First Vector          : \" + str(vector1)) \n",
    "  \n",
    "vector2 = np.array(list2) \n",
    "print(\"Second Vector         : \" + str(vector2)) \n",
    "  \n",
    "addition = vector1 + vector2 \n",
    "print(\"Vector Addition       : \" + str(addition)) \n",
    "  \n",
    "subtraction = vector1 - vector2 \n",
    "print(\"Vector Subtraction   : \" + str(subtraction)) \n",
    "  \n",
    "multiplication = vector1 * vector2  \n",
    "print(\"Vector Multiplication : \" + str(multiplication)) \n",
    "  \n",
    "division = vector1 / vector2 \n",
    "print(\"Vector Division       : \" + str(division)) "
   ]
  },
  {
   "cell_type": "code",
   "execution_count": 6,
   "id": "4380534a",
   "metadata": {},
   "outputs": [
    {
     "name": "stdout",
     "output_type": "stream",
     "text": [
      "8/3\n"
     ]
    }
   ],
   "source": [
    "import matplotlib.pyplot as plt\n",
    "import numpy as np\n",
    "import sympy as sy\n",
    "\n",
    "\n",
    "def f(x):\n",
    "    return x**2\n",
    "\n",
    "x = sy.Symbol(\"x\")\n",
    "print(sy.integrate(f(x), (x, 0, 2)))"
   ]
  },
  {
   "cell_type": "code",
   "execution_count": 17,
   "id": "750ba34a",
   "metadata": {},
   "outputs": [
    {
     "name": "stdout",
     "output_type": "stream",
     "text": [
      "Mean: 25.0\n",
      "Median: 27.5\n",
      "Mode: 30\n"
     ]
    }
   ],
   "source": [
    "import numpy as np\n",
    "from scipy import stats\n",
    "\n",
    "# Sample data\n",
    "data = [10, 15, 15, 20, 25, 30, 30, 30, 35, 40]\n",
    "\n",
    "mean = np.mean(data)\n",
    "\n",
    "median = np.median(data)\n",
    "\n",
    "mode = stats.mode(data, keepdims=True)[0][0]\n",
    "\n",
    "print(f\"Mean: {mean}\")\n",
    "print(f\"Median: {median}\")\n",
    "print(f\"Mode: {mode}\")\n"
   ]
  },
  {
   "cell_type": "code",
   "execution_count": 18,
   "id": "e27ad3dd",
   "metadata": {},
   "outputs": [
    {
     "name": "stdout",
     "output_type": "stream",
     "text": [
      "Variance: 85.0\n",
      "Standard Deviation: 9.219544457292887\n",
      "Standard Deviation: 9.219544457292887\n"
     ]
    }
   ],
   "source": [
    "import numpy as np\n",
    "import math\n",
    "data = [10, 15, 15, 20, 25, 30, 30, 30, 35, 40]\n",
    "\n",
    "variance = np.var(data)\n",
    "\n",
    "sdt1 = math.sqrt(variance)\n",
    "std_dev = np.std(data)\n",
    "\n",
    "print(f\"Variance: {variance}\")\n",
    "print(f\"Standard Deviation: {sdt1}\")\n",
    "print(f\"Standard Deviation: {std_dev}\")\n"
   ]
  },
  {
   "cell_type": "markdown",
   "id": "8c1e93c8",
   "metadata": {},
   "source": [
    "# Linear Regression #14/10"
   ]
  },
  {
   "cell_type": "code",
   "execution_count": 5,
   "id": "79815ffd",
   "metadata": {},
   "outputs": [
    {
     "name": "stdout",
     "output_type": "stream",
     "text": [
      "Salary = 7629.45 * Experience + 27901.62\n",
      "Predicted Salary for 54604.71\n"
     ]
    },
    {
     "name": "stderr",
     "output_type": "stream",
     "text": [
      "C:\\Users\\asus\\anaconda3\\Lib\\site-packages\\sklearn\\base.py:464: UserWarning: X does not have valid feature names, but LinearRegression was fitted with feature names\n",
      "  warnings.warn(\n"
     ]
    },
    {
     "data": {
      "image/png": "[encoded data removed]",
      "text/plain": [
       "<Figure size 640x480 with 1 Axes>"
      ]
     },
     "metadata": {},
     "output_type": "display_data"
    }
   ],
   "source": [
    "import numpy as np\n",
    "import pandas as pd\n",
    "import matplotlib.pyplot as plt\n",
    "from sklearn.linear_model import LinearRegression\n",
    "\n",
    "data = {\n",
    "    'Experience': [1.1, 1.3, 1.5, 2.0, 2.2, 2.5, 3.0, 3.2, 3.5, 4.0, 4.5, 5.0],\n",
    "    'Salary': [39343, 46205, 37731, 43525, 39891, 42000, 48000, 49000, 52000, 60000, 65000, 70000]\n",
    "}\n",
    "\n",
    "df = pd.DataFrame(data)\n",
    "\n",
    "\n",
    "X = df[['Experience']]  \n",
    "y = df['Salary']          \n",
    "\n",
    "# Create and fit the model\n",
    "model = LinearRegression()\n",
    "model.fit(X, y)\n",
    "\n",
    "# slope and intercept\n",
    "m = model.coef_[0]  \n",
    "b = model.intercept_\n",
    "\n",
    "print(f\"Salary = {m:.2f} * Experience + {b:.2f}\")\n",
    "\n",
    "# predictions\n",
    "experience = 3.7\n",
    "predicted= model.predict([[years_experience]])[0]\n",
    "print(f\"Predicted Salary for {predicted_salary:.2f}\")\n",
    "\n",
    "# Visualization\n",
    "plt.scatter(X, y, color='blue', label='Actual Data')\n",
    "plt.plot(X, model.predict(X), color='red', label='Fitted Line')\n",
    "plt.scatter(experience, predicted, color='green', label='Prediction', s=100, edgecolor='black')\n",
    "plt.xlabel('Years of Experience')\n",
    "plt.ylabel('Salary')\n",
    "plt.legend()\n",
    "plt.grid()\n",
    "plt.show()\n"
   ]
  },
  {
   "cell_type": "code",
   "execution_count": null,
   "id": "c68ac5a3",
   "metadata": {},
   "outputs": [],
   "source": []
  }
 ],
 "metadata": {
  "kernelspec": {
   "display_name": "Python 3 (ipykernel)",
   "language": "python",
   "name": "python3"
  },
  "language_info": {
   "codemirror_mode": {
    "name": "ipython",
    "version": 3
   },
   "file_extension": ".py",
   "mimetype": "text/x-python",
   "name": "python",
   "nbconvert_exporter": "python",
   "pygments_lexer": "ipython3",
   "version": "3.11.4"
  }
 },
 "nbformat": 4,
 "nbformat_minor": 5
}
